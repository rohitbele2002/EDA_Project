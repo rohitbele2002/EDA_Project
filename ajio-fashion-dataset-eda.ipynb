{
 "cells": [
  {
   "cell_type": "code",
   "execution_count": 1,
   "id": "d8eb25cd",
   "metadata": {
    "execution": {
     "iopub.execute_input": "2022-09-26T09:23:31.085590Z",
     "iopub.status.busy": "2022-09-26T09:23:31.084851Z",
     "iopub.status.idle": "2022-09-26T09:23:32.206846Z",
     "shell.execute_reply": "2022-09-26T09:23:32.205736Z"
    },
    "papermill": {
     "duration": 1.133381,
     "end_time": "2022-09-26T09:23:32.209872",
     "exception": false,
     "start_time": "2022-09-26T09:23:31.076491",
     "status": "completed"
    },
    "tags": []
   },
   "outputs": [],
   "source": [
    "import pandas as pd\n",
    "import numpy as np\n",
    "import matplotlib.pyplot as plt\n",
    "import seaborn as sns"
   ]
  },
  {
   "cell_type": "code",
   "execution_count": 2,
   "id": "03d82068",
   "metadata": {
    "execution": {
     "iopub.execute_input": "2022-09-26T09:23:32.225020Z",
     "iopub.status.busy": "2022-09-26T09:23:32.224598Z",
     "iopub.status.idle": "2022-09-26T09:23:35.631440Z",
     "shell.execute_reply": "2022-09-26T09:23:35.630209Z"
    },
    "papermill": {
     "duration": 3.417486,
     "end_time": "2022-09-26T09:23:35.634154",
     "exception": false,
     "start_time": "2022-09-26T09:23:32.216668",
     "status": "completed"
    },
    "tags": []
   },
   "outputs": [],
   "source": [
    "df=pd.read_csv(\"Ajio Fasion clothing.csv\",encoding='latin-1')"
   ]
  },
  {
   "cell_type": "code",
   "execution_count": 20,
   "id": "5f60370b",
   "metadata": {},
   "outputs": [
    {
     "data": {
      "text/plain": [
       "0         https://assets.ajio.com/medias/sys_master/root...\n",
       "1         https://assets.ajio.com/medias/sys_master/root...\n",
       "2         https://assets.ajio.com/medias/sys_master/root...\n",
       "3         https://assets.ajio.com/medias/sys_master/root...\n",
       "4         https://assets.ajio.com/medias/sys_master/root...\n",
       "                                ...                        \n",
       "367167    https://assets.ajio.com/medias/sys_master/root...\n",
       "367168    https://assets.ajio.com/medias/sys_master/root...\n",
       "367169    https://assets.ajio.com/medias/sys_master/root...\n",
       "367170    https://assets.ajio.com/medias/sys_master/root...\n",
       "367171    https://assets.ajio.com/medias/sys_master/root...\n",
       "Name: URL_image, Length: 367172, dtype: object"
      ]
     },
     "execution_count": 20,
     "metadata": {},
     "output_type": "execute_result"
    }
   ],
   "source": [
    "df['URL_image']"
   ]
  },
  {
   "cell_type": "code",
   "execution_count": 3,
   "id": "062ab698",
   "metadata": {},
   "outputs": [
    {
     "name": "stdout",
     "output_type": "stream",
     "text": [
      "There are 367172 rows and 9 columns in the dataset.\n"
     ]
    }
   ],
   "source": [
    "#Checking for the columns and rows of the dataset.\n",
    "shape=df.shape\n",
    "print(\"There are \"+str(shape[0])+\" rows and \"+str(shape[1])+\" columns in the dataset.\")"
   ]
  },
  {
   "cell_type": "code",
   "execution_count": 4,
   "id": "649fedc5",
   "metadata": {
    "execution": {
     "iopub.execute_input": "2022-09-26T09:23:35.648214Z",
     "iopub.status.busy": "2022-09-26T09:23:35.647812Z",
     "iopub.status.idle": "2022-09-26T09:23:35.673077Z",
     "shell.execute_reply": "2022-09-26T09:23:35.671852Z"
    },
    "papermill": {
     "duration": 0.035242,
     "end_time": "2022-09-26T09:23:35.675678",
     "exception": false,
     "start_time": "2022-09-26T09:23:35.640436",
     "status": "completed"
    },
    "tags": []
   },
   "outputs": [
    {
     "data": {
      "text/html": [
       "<div>\n",
       "<style scoped>\n",
       "    .dataframe tbody tr th:only-of-type {\n",
       "        vertical-align: middle;\n",
       "    }\n",
       "\n",
       "    .dataframe tbody tr th {\n",
       "        vertical-align: top;\n",
       "    }\n",
       "\n",
       "    .dataframe thead th {\n",
       "        text-align: right;\n",
       "    }\n",
       "</style>\n",
       "<table border=\"1\" class=\"dataframe\">\n",
       "  <thead>\n",
       "    <tr style=\"text-align: right;\">\n",
       "      <th></th>\n",
       "      <th>Product_URL</th>\n",
       "      <th>Brand</th>\n",
       "      <th>Description</th>\n",
       "      <th>Id_Product</th>\n",
       "      <th>URL_image</th>\n",
       "      <th>Category_by_gender</th>\n",
       "      <th>Discount Price (in Rs.)</th>\n",
       "      <th>Original Price (in Rs.)</th>\n",
       "      <th>Color</th>\n",
       "    </tr>\n",
       "  </thead>\n",
       "  <tbody>\n",
       "    <tr>\n",
       "      <th>0</th>\n",
       "      <td>https://www.ajio.com/netplay-checked-polo-t-sh...</td>\n",
       "      <td>netplay</td>\n",
       "      <td>Checked Polo T-shirt</td>\n",
       "      <td>441137362002</td>\n",
       "      <td>https://assets.ajio.com/medias/sys_master/root...</td>\n",
       "      <td>Men</td>\n",
       "      <td>559</td>\n",
       "      <td>699</td>\n",
       "      <td>white</td>\n",
       "    </tr>\n",
       "    <tr>\n",
       "      <th>1</th>\n",
       "      <td>https://www.ajio.com/netplay-tapered-fit-flat-...</td>\n",
       "      <td>netplay</td>\n",
       "      <td>Tapered Fit Flat-Front Trousers</td>\n",
       "      <td>441124497006</td>\n",
       "      <td>https://assets.ajio.com/medias/sys_master/root...</td>\n",
       "      <td>Men</td>\n",
       "      <td>720</td>\n",
       "      <td>1,499</td>\n",
       "      <td>navy</td>\n",
       "    </tr>\n",
       "    <tr>\n",
       "      <th>2</th>\n",
       "      <td>https://www.ajio.com/the-indian-garage-co-stri...</td>\n",
       "      <td>the-indian-garage-co</td>\n",
       "      <td>Striped Slim Fit Shirt with Patch Pocket</td>\n",
       "      <td>460453612003</td>\n",
       "      <td>https://assets.ajio.com/medias/sys_master/root...</td>\n",
       "      <td>Men</td>\n",
       "      <td>495</td>\n",
       "      <td>1,649</td>\n",
       "      <td>white</td>\n",
       "    </tr>\n",
       "    <tr>\n",
       "      <th>3</th>\n",
       "      <td>https://www.ajio.com/performax-heathered-crew-...</td>\n",
       "      <td>performax</td>\n",
       "      <td>Heathered Crew-Neck T-shirt</td>\n",
       "      <td>441036730003</td>\n",
       "      <td>https://assets.ajio.com/medias/sys_master/root...</td>\n",
       "      <td>Men</td>\n",
       "      <td>329</td>\n",
       "      <td>599</td>\n",
       "      <td>charcoal</td>\n",
       "    </tr>\n",
       "    <tr>\n",
       "      <th>4</th>\n",
       "      <td>https://www.ajio.com/john-players-jeans-washed...</td>\n",
       "      <td>john-players-jeans</td>\n",
       "      <td>Washed Skinny Fit Jeans with Whiskers</td>\n",
       "      <td>441128531011</td>\n",
       "      <td>https://assets.ajio.com/medias/sys_master/root...</td>\n",
       "      <td>Men</td>\n",
       "      <td>899</td>\n",
       "      <td>999</td>\n",
       "      <td>jetblack</td>\n",
       "    </tr>\n",
       "  </tbody>\n",
       "</table>\n",
       "</div>"
      ],
      "text/plain": [
       "                                         Product_URL                 Brand  \\\n",
       "0  https://www.ajio.com/netplay-checked-polo-t-sh...               netplay   \n",
       "1  https://www.ajio.com/netplay-tapered-fit-flat-...               netplay   \n",
       "2  https://www.ajio.com/the-indian-garage-co-stri...  the-indian-garage-co   \n",
       "3  https://www.ajio.com/performax-heathered-crew-...             performax   \n",
       "4  https://www.ajio.com/john-players-jeans-washed...    john-players-jeans   \n",
       "\n",
       "                                Description    Id_Product  \\\n",
       "0                      Checked Polo T-shirt  441137362002   \n",
       "1           Tapered Fit Flat-Front Trousers  441124497006   \n",
       "2  Striped Slim Fit Shirt with Patch Pocket  460453612003   \n",
       "3               Heathered Crew-Neck T-shirt  441036730003   \n",
       "4     Washed Skinny Fit Jeans with Whiskers  441128531011   \n",
       "\n",
       "                                           URL_image Category_by_gender  \\\n",
       "0  https://assets.ajio.com/medias/sys_master/root...                Men   \n",
       "1  https://assets.ajio.com/medias/sys_master/root...                Men   \n",
       "2  https://assets.ajio.com/medias/sys_master/root...                Men   \n",
       "3  https://assets.ajio.com/medias/sys_master/root...                Men   \n",
       "4  https://assets.ajio.com/medias/sys_master/root...                Men   \n",
       "\n",
       "  Discount Price (in Rs.) Original Price (in Rs.)     Color  \n",
       "0                     559                     699     white  \n",
       "1                     720                   1,499      navy  \n",
       "2                     495                   1,649     white  \n",
       "3                     329                     599  charcoal  \n",
       "4                     899                     999  jetblack  "
      ]
     },
     "execution_count": 4,
     "metadata": {},
     "output_type": "execute_result"
    }
   ],
   "source": [
    "df.head(5)"
   ]
  },
  {
   "cell_type": "code",
   "execution_count": 5,
   "id": "e1f028e2",
   "metadata": {},
   "outputs": [
    {
     "data": {
      "text/html": [
       "<div>\n",
       "<style scoped>\n",
       "    .dataframe tbody tr th:only-of-type {\n",
       "        vertical-align: middle;\n",
       "    }\n",
       "\n",
       "    .dataframe tbody tr th {\n",
       "        vertical-align: top;\n",
       "    }\n",
       "\n",
       "    .dataframe thead th {\n",
       "        text-align: right;\n",
       "    }\n",
       "</style>\n",
       "<table border=\"1\" class=\"dataframe\">\n",
       "  <thead>\n",
       "    <tr style=\"text-align: right;\">\n",
       "      <th></th>\n",
       "      <th>Product_URL</th>\n",
       "      <th>Brand</th>\n",
       "      <th>Description</th>\n",
       "      <th>Id_Product</th>\n",
       "      <th>URL_image</th>\n",
       "      <th>Category_by_gender</th>\n",
       "      <th>Discount Price (in Rs.)</th>\n",
       "      <th>Original Price (in Rs.)</th>\n",
       "      <th>Color</th>\n",
       "    </tr>\n",
       "  </thead>\n",
       "  <tbody>\n",
       "    <tr>\n",
       "      <th>367167</th>\n",
       "      <td>https://www.ajio.com/indie-picks-woven-pochamp...</td>\n",
       "      <td>indie-picks</td>\n",
       "      <td>Woven Pochampally Ikat Dresss Material</td>\n",
       "      <td>469185158001</td>\n",
       "      <td>https://assets.ajio.com/medias/sys_master/root...</td>\n",
       "      <td>Women</td>\n",
       "      <td>639</td>\n",
       "      <td>999</td>\n",
       "      <td>black</td>\n",
       "    </tr>\n",
       "    <tr>\n",
       "      <th>367168</th>\n",
       "      <td>https://www.ajio.com/indie-picks-woven-pochamp...</td>\n",
       "      <td>indie-picks</td>\n",
       "      <td>Woven Pochampally Ikat Dresss Material</td>\n",
       "      <td>469185191001</td>\n",
       "      <td>https://assets.ajio.com/medias/sys_master/root...</td>\n",
       "      <td>Women</td>\n",
       "      <td>639</td>\n",
       "      <td>999</td>\n",
       "      <td>blue</td>\n",
       "    </tr>\n",
       "    <tr>\n",
       "      <th>367169</th>\n",
       "      <td>https://www.ajio.com/griva-designer-floral-emb...</td>\n",
       "      <td>griva-designer</td>\n",
       "      <td>Floral Embroidered Saree</td>\n",
       "      <td>464386490001</td>\n",
       "      <td>https://assets.ajio.com/medias/sys_master/root...</td>\n",
       "      <td>Women</td>\n",
       "      <td>1,680</td>\n",
       "      <td>3,999</td>\n",
       "      <td>aqua</td>\n",
       "    </tr>\n",
       "    <tr>\n",
       "      <th>367170</th>\n",
       "      <td>https://www.ajio.com/global-desi-pleated-dhoti...</td>\n",
       "      <td>global-desi</td>\n",
       "      <td>Pleated Dhoti Pants with Semi-Elasticated Waist</td>\n",
       "      <td>441095127007</td>\n",
       "      <td>https://assets.ajio.com/medias/sys_master/root...</td>\n",
       "      <td>Women</td>\n",
       "      <td>2,399</td>\n",
       "      <td>2,399</td>\n",
       "      <td>white</td>\n",
       "    </tr>\n",
       "    <tr>\n",
       "      <th>367171</th>\n",
       "      <td>https://www.ajio.com/sakura-micro-print-a-line...</td>\n",
       "      <td>sakura</td>\n",
       "      <td>Micro Print A-line Kurta</td>\n",
       "      <td>469065660002</td>\n",
       "      <td>https://assets.ajio.com/medias/sys_master/root...</td>\n",
       "      <td>Women</td>\n",
       "      <td>418</td>\n",
       "      <td>1,099</td>\n",
       "      <td>green</td>\n",
       "    </tr>\n",
       "  </tbody>\n",
       "</table>\n",
       "</div>"
      ],
      "text/plain": [
       "                                              Product_URL           Brand  \\\n",
       "367167  https://www.ajio.com/indie-picks-woven-pochamp...     indie-picks   \n",
       "367168  https://www.ajio.com/indie-picks-woven-pochamp...     indie-picks   \n",
       "367169  https://www.ajio.com/griva-designer-floral-emb...  griva-designer   \n",
       "367170  https://www.ajio.com/global-desi-pleated-dhoti...     global-desi   \n",
       "367171  https://www.ajio.com/sakura-micro-print-a-line...          sakura   \n",
       "\n",
       "                                            Description    Id_Product  \\\n",
       "367167           Woven Pochampally Ikat Dresss Material  469185158001   \n",
       "367168           Woven Pochampally Ikat Dresss Material  469185191001   \n",
       "367169                         Floral Embroidered Saree  464386490001   \n",
       "367170  Pleated Dhoti Pants with Semi-Elasticated Waist  441095127007   \n",
       "367171                         Micro Print A-line Kurta  469065660002   \n",
       "\n",
       "                                                URL_image Category_by_gender  \\\n",
       "367167  https://assets.ajio.com/medias/sys_master/root...              Women   \n",
       "367168  https://assets.ajio.com/medias/sys_master/root...              Women   \n",
       "367169  https://assets.ajio.com/medias/sys_master/root...              Women   \n",
       "367170  https://assets.ajio.com/medias/sys_master/root...              Women   \n",
       "367171  https://assets.ajio.com/medias/sys_master/root...              Women   \n",
       "\n",
       "       Discount Price (in Rs.) Original Price (in Rs.)  Color  \n",
       "367167                     639                     999  black  \n",
       "367168                     639                     999   blue  \n",
       "367169                   1,680                   3,999   aqua  \n",
       "367170                   2,399                   2,399  white  \n",
       "367171                     418                   1,099  green  "
      ]
     },
     "execution_count": 5,
     "metadata": {},
     "output_type": "execute_result"
    }
   ],
   "source": [
    "df.tail()"
   ]
  },
  {
   "cell_type": "code",
   "execution_count": 7,
   "id": "61112017",
   "metadata": {
    "execution": {
     "iopub.execute_input": "2022-09-26T09:23:35.690582Z",
     "iopub.status.busy": "2022-09-26T09:23:35.690190Z",
     "iopub.status.idle": "2022-09-26T09:23:35.853169Z",
     "shell.execute_reply": "2022-09-26T09:23:35.851919Z"
    },
    "papermill": {
     "duration": 0.174278,
     "end_time": "2022-09-26T09:23:35.856703",
     "exception": false,
     "start_time": "2022-09-26T09:23:35.682425",
     "status": "completed"
    },
    "tags": []
   },
   "outputs": [
    {
     "name": "stdout",
     "output_type": "stream",
     "text": [
      "<class 'pandas.core.frame.DataFrame'>\n",
      "RangeIndex: 367172 entries, 0 to 367171\n",
      "Data columns (total 9 columns):\n",
      " #   Column                   Non-Null Count   Dtype \n",
      "---  ------                   --------------   ----- \n",
      " 0   Product_URL              367172 non-null  object\n",
      " 1   Brand                    367172 non-null  object\n",
      " 2   Description              367172 non-null  object\n",
      " 3   Id_Product               367172 non-null  int64 \n",
      " 4   URL_image                367172 non-null  object\n",
      " 5   Category_by_gender       367172 non-null  object\n",
      " 6   Discount Price (in Rs.)  367172 non-null  object\n",
      " 7   Original Price (in Rs.)  367172 non-null  object\n",
      " 8   Color                    367172 non-null  object\n",
      "dtypes: int64(1), object(8)\n",
      "memory usage: 25.2+ MB\n"
     ]
    }
   ],
   "source": [
    "df.info()"
   ]
  },
  {
   "cell_type": "markdown",
   "id": "d1d2fe80",
   "metadata": {},
   "source": [
    "#### There is only one Numerical column in the Dataset Rest all of them are categorical."
   ]
  },
  {
   "cell_type": "code",
   "execution_count": 34,
   "id": "269bc60a",
   "metadata": {},
   "outputs": [
    {
     "name": "stdout",
     "output_type": "stream",
     "text": [
      "['Id_Product']\n"
     ]
    }
   ],
   "source": [
    "#Checking for the Numerical Features or Numerical Columns.\n",
    "num_features = [features for features in df.columns if df[features].dtype!='O']\n",
    "print(num_features)"
   ]
  },
  {
   "cell_type": "code",
   "execution_count": 38,
   "id": "7e3752c4",
   "metadata": {},
   "outputs": [
    {
     "data": {
      "text/plain": [
       "[]"
      ]
     },
     "execution_count": 38,
     "metadata": {},
     "output_type": "execute_result"
    }
   ],
   "source": [
    "categorical_features = [features for features in num_features if features not in num_features]\n",
    "categorical_features"
   ]
  },
  {
   "cell_type": "code",
   "execution_count": 8,
   "id": "10faed41",
   "metadata": {
    "execution": {
     "iopub.execute_input": "2022-09-26T09:23:35.872343Z",
     "iopub.status.busy": "2022-09-26T09:23:35.871780Z",
     "iopub.status.idle": "2022-09-26T09:23:35.907253Z",
     "shell.execute_reply": "2022-09-26T09:23:35.906208Z"
    },
    "papermill": {
     "duration": 0.045727,
     "end_time": "2022-09-26T09:23:35.909799",
     "exception": false,
     "start_time": "2022-09-26T09:23:35.864072",
     "status": "completed"
    },
    "tags": []
   },
   "outputs": [
    {
     "data": {
      "text/html": [
       "<div>\n",
       "<style scoped>\n",
       "    .dataframe tbody tr th:only-of-type {\n",
       "        vertical-align: middle;\n",
       "    }\n",
       "\n",
       "    .dataframe tbody tr th {\n",
       "        vertical-align: top;\n",
       "    }\n",
       "\n",
       "    .dataframe thead th {\n",
       "        text-align: right;\n",
       "    }\n",
       "</style>\n",
       "<table border=\"1\" class=\"dataframe\">\n",
       "  <thead>\n",
       "    <tr style=\"text-align: right;\">\n",
       "      <th></th>\n",
       "      <th>Id_Product</th>\n",
       "    </tr>\n",
       "  </thead>\n",
       "  <tbody>\n",
       "    <tr>\n",
       "      <th>count</th>\n",
       "      <td>3.671720e+05</td>\n",
       "    </tr>\n",
       "    <tr>\n",
       "      <th>mean</th>\n",
       "      <td>4.595705e+11</td>\n",
       "    </tr>\n",
       "    <tr>\n",
       "      <th>std</th>\n",
       "      <td>2.349409e+10</td>\n",
       "    </tr>\n",
       "    <tr>\n",
       "      <th>min</th>\n",
       "      <td>4.100129e+11</td>\n",
       "    </tr>\n",
       "    <tr>\n",
       "      <th>25%</th>\n",
       "      <td>4.609615e+11</td>\n",
       "    </tr>\n",
       "    <tr>\n",
       "      <th>50%</th>\n",
       "      <td>4.626215e+11</td>\n",
       "    </tr>\n",
       "    <tr>\n",
       "      <th>75%</th>\n",
       "      <td>4.638856e+11</td>\n",
       "    </tr>\n",
       "    <tr>\n",
       "      <th>max</th>\n",
       "      <td>4.601102e+12</td>\n",
       "    </tr>\n",
       "  </tbody>\n",
       "</table>\n",
       "</div>"
      ],
      "text/plain": [
       "         Id_Product\n",
       "count  3.671720e+05\n",
       "mean   4.595705e+11\n",
       "std    2.349409e+10\n",
       "min    4.100129e+11\n",
       "25%    4.609615e+11\n",
       "50%    4.626215e+11\n",
       "75%    4.638856e+11\n",
       "max    4.601102e+12"
      ]
     },
     "execution_count": 8,
     "metadata": {},
     "output_type": "execute_result"
    }
   ],
   "source": [
    "df.describe()"
   ]
  },
  {
   "cell_type": "code",
   "execution_count": 9,
   "id": "f0bd4257",
   "metadata": {
    "execution": {
     "iopub.execute_input": "2022-09-26T09:23:35.925377Z",
     "iopub.status.busy": "2022-09-26T09:23:35.924961Z",
     "iopub.status.idle": "2022-09-26T09:23:35.967768Z",
     "shell.execute_reply": "2022-09-26T09:23:35.966361Z"
    },
    "papermill": {
     "duration": 0.053522,
     "end_time": "2022-09-26T09:23:35.970195",
     "exception": false,
     "start_time": "2022-09-26T09:23:35.916673",
     "status": "completed"
    },
    "tags": []
   },
   "outputs": [
    {
     "data": {
      "text/plain": [
       "array(['netplay', 'the-indian-garage-co', 'performax', ..., 'deepam',\n",
       "       'tara-and-i', 'fab-viva'], dtype=object)"
      ]
     },
     "execution_count": 9,
     "metadata": {},
     "output_type": "execute_result"
    }
   ],
   "source": [
    "df['Brand'].unique()"
   ]
  },
  {
   "cell_type": "code",
   "execution_count": 10,
   "id": "b8b9f29c",
   "metadata": {
    "execution": {
     "iopub.execute_input": "2022-09-26T09:23:35.988625Z",
     "iopub.status.busy": "2022-09-26T09:23:35.987730Z",
     "iopub.status.idle": "2022-09-26T09:23:36.784825Z",
     "shell.execute_reply": "2022-09-26T09:23:36.783680Z"
    },
    "papermill": {
     "duration": 0.808811,
     "end_time": "2022-09-26T09:23:36.787158",
     "exception": false,
     "start_time": "2022-09-26T09:23:35.978347",
     "status": "completed"
    },
    "tags": []
   },
   "outputs": [
    {
     "data": {
      "text/plain": [
       "0         False\n",
       "1         False\n",
       "2         False\n",
       "3         False\n",
       "4         False\n",
       "          ...  \n",
       "367167    False\n",
       "367168    False\n",
       "367169    False\n",
       "367170    False\n",
       "367171    False\n",
       "Length: 367172, dtype: bool"
      ]
     },
     "execution_count": 10,
     "metadata": {},
     "output_type": "execute_result"
    }
   ],
   "source": [
    "df.duplicated()"
   ]
  },
  {
   "cell_type": "code",
   "execution_count": 11,
   "id": "3ddd2fed",
   "metadata": {
    "execution": {
     "iopub.execute_input": "2022-09-26T09:23:36.802806Z",
     "iopub.status.busy": "2022-09-26T09:23:36.802011Z",
     "iopub.status.idle": "2022-09-26T09:23:36.950105Z",
     "shell.execute_reply": "2022-09-26T09:23:36.948934Z"
    },
    "papermill": {
     "duration": 0.161606,
     "end_time": "2022-09-26T09:23:36.955648",
     "exception": false,
     "start_time": "2022-09-26T09:23:36.794042",
     "status": "completed"
    },
    "tags": []
   },
   "outputs": [
    {
     "data": {
      "text/plain": [
       "Product_URL                0\n",
       "Brand                      0\n",
       "Description                0\n",
       "Id_Product                 0\n",
       "URL_image                  0\n",
       "Category_by_gender         0\n",
       "Discount Price (in Rs.)    0\n",
       "Original Price (in Rs.)    0\n",
       "Color                      0\n",
       "dtype: int64"
      ]
     },
     "execution_count": 11,
     "metadata": {},
     "output_type": "execute_result"
    }
   ],
   "source": [
    "#Checking for the Null values.\n",
    "df.isnull().sum()"
   ]
  },
  {
   "cell_type": "code",
   "execution_count": 23,
   "id": "5d0b0496",
   "metadata": {},
   "outputs": [
    {
     "data": {
      "text/plain": [
       "[<matplotlib.lines.Line2D at 0x7f8c86b60e50>]"
      ]
     },
     "execution_count": 23,
     "metadata": {},
     "output_type": "execute_result"
    },
    {
     "data": {
      "image/png": "[encoded data removed]",
      "text/plain": [
       "<Figure size 432x288 with 1 Axes>"
      ]
     },
     "metadata": {
      "needs_background": "light"
     },
     "output_type": "display_data"
    }
   ],
   "source": [
    "missing = df.isnull().sum()\n",
    "missing = missing[missing > 0]\n",
    "missing.sort_values(inplace=True)\n",
    "plt.plot(missing)"
   ]
  },
  {
   "cell_type": "markdown",
   "id": "2a0d1657",
   "metadata": {},
   "source": [
    "#### There are no null values so no further transformations are required."
   ]
  },
  {
   "cell_type": "code",
   "execution_count": 12,
   "id": "a8d4f750",
   "metadata": {
    "execution": {
     "iopub.execute_input": "2022-09-26T09:23:36.974644Z",
     "iopub.status.busy": "2022-09-26T09:23:36.974184Z",
     "iopub.status.idle": "2022-09-26T09:23:36.999324Z",
     "shell.execute_reply": "2022-09-26T09:23:36.997765Z"
    },
    "papermill": {
     "duration": 0.037291,
     "end_time": "2022-09-26T09:23:37.002943",
     "exception": false,
     "start_time": "2022-09-26T09:23:36.965652",
     "status": "completed"
    },
    "tags": []
   },
   "outputs": [
    {
     "data": {
      "text/html": [
       "<div>\n",
       "<style scoped>\n",
       "    .dataframe tbody tr th:only-of-type {\n",
       "        vertical-align: middle;\n",
       "    }\n",
       "\n",
       "    .dataframe tbody tr th {\n",
       "        vertical-align: top;\n",
       "    }\n",
       "\n",
       "    .dataframe thead th {\n",
       "        text-align: right;\n",
       "    }\n",
       "</style>\n",
       "<table border=\"1\" class=\"dataframe\">\n",
       "  <thead>\n",
       "    <tr style=\"text-align: right;\">\n",
       "      <th></th>\n",
       "      <th>Id_Product</th>\n",
       "    </tr>\n",
       "  </thead>\n",
       "  <tbody>\n",
       "    <tr>\n",
       "      <th>Id_Product</th>\n",
       "      <td>1.0</td>\n",
       "    </tr>\n",
       "  </tbody>\n",
       "</table>\n",
       "</div>"
      ],
      "text/plain": [
       "            Id_Product\n",
       "Id_Product         1.0"
      ]
     },
     "execution_count": 12,
     "metadata": {},
     "output_type": "execute_result"
    }
   ],
   "source": [
    "df.corr()"
   ]
  },
  {
   "cell_type": "code",
   "execution_count": 13,
   "id": "727bc12a",
   "metadata": {
    "execution": {
     "iopub.execute_input": "2022-09-26T09:23:37.021092Z",
     "iopub.status.busy": "2022-09-26T09:23:37.020668Z",
     "iopub.status.idle": "2022-09-26T09:23:37.025891Z",
     "shell.execute_reply": "2022-09-26T09:23:37.024570Z"
    },
    "papermill": {
     "duration": 0.016873,
     "end_time": "2022-09-26T09:23:37.028578",
     "exception": false,
     "start_time": "2022-09-26T09:23:37.011705",
     "status": "completed"
    },
    "tags": []
   },
   "outputs": [],
   "source": [
    "import seaborn as sns"
   ]
  },
  {
   "cell_type": "code",
   "execution_count": 14,
   "id": "fe5b6bc6",
   "metadata": {
    "execution": {
     "iopub.execute_input": "2022-09-26T09:23:37.045536Z",
     "iopub.status.busy": "2022-09-26T09:23:37.045089Z",
     "iopub.status.idle": "2022-09-26T09:23:37.081287Z",
     "shell.execute_reply": "2022-09-26T09:23:37.079877Z"
    },
    "papermill": {
     "duration": 0.04793,
     "end_time": "2022-09-26T09:23:37.084059",
     "exception": false,
     "start_time": "2022-09-26T09:23:37.036129",
     "status": "completed"
    },
    "tags": []
   },
   "outputs": [
    {
     "data": {
      "text/plain": [
       "blue            49807\n",
       "black           41683\n",
       "grey            24952\n",
       "green           24417\n",
       "white           23876\n",
       "                ...  \n",
       "01dd                1\n",
       "denimindigo2        1\n",
       "840                 1\n",
       "8at                 1\n",
       "bc06alloyhtr        1\n",
       "Name: Color, Length: 4296, dtype: int64"
      ]
     },
     "execution_count": 14,
     "metadata": {},
     "output_type": "execute_result"
    }
   ],
   "source": [
    "df['Color'].value_counts()"
   ]
  },
  {
   "cell_type": "code",
   "execution_count": 15,
   "id": "3d551c20",
   "metadata": {
    "execution": {
     "iopub.execute_input": "2022-09-26T09:23:37.100960Z",
     "iopub.status.busy": "2022-09-26T09:23:37.099987Z",
     "iopub.status.idle": "2022-09-26T09:23:37.134961Z",
     "shell.execute_reply": "2022-09-26T09:23:37.133896Z"
    },
    "papermill": {
     "duration": 0.046114,
     "end_time": "2022-09-26T09:23:37.137500",
     "exception": false,
     "start_time": "2022-09-26T09:23:37.091386",
     "status": "completed"
    },
    "tags": []
   },
   "outputs": [
    {
     "data": {
      "text/plain": [
       "jolie-robe               8135\n",
       "max                      5179\n",
       "puma                     3862\n",
       "louis-philippe           3505\n",
       "campus-sutra             3489\n",
       "                         ... \n",
       "ovi                         1\n",
       "candies-by-pantaloons       1\n",
       "countrymade                 1\n",
       "chill-fighter               1\n",
       "locomotive                  1\n",
       "Name: Brand, Length: 1975, dtype: int64"
      ]
     },
     "execution_count": 15,
     "metadata": {},
     "output_type": "execute_result"
    }
   ],
   "source": [
    "df['Brand'].value_counts()"
   ]
  },
  {
   "cell_type": "code",
   "execution_count": 16,
   "id": "1d8851b5",
   "metadata": {
    "execution": {
     "iopub.execute_input": "2022-09-26T09:23:37.155332Z",
     "iopub.status.busy": "2022-09-26T09:23:37.154937Z",
     "iopub.status.idle": "2022-09-26T09:23:37.187994Z",
     "shell.execute_reply": "2022-09-26T09:23:37.186872Z"
    },
    "papermill": {
     "duration": 0.044076,
     "end_time": "2022-09-26T09:23:37.190288",
     "exception": false,
     "start_time": "2022-09-26T09:23:37.146212",
     "status": "completed"
    },
    "tags": []
   },
   "outputs": [
    {
     "data": {
      "text/plain": [
       "0    jolie-robe\n",
       "Name: Brand, dtype: object"
      ]
     },
     "execution_count": 16,
     "metadata": {},
     "output_type": "execute_result"
    }
   ],
   "source": [
    "df['Brand'].mode()"
   ]
  },
  {
   "cell_type": "code",
   "execution_count": 17,
   "id": "72ee5e66",
   "metadata": {
    "execution": {
     "iopub.execute_input": "2022-09-26T09:23:37.206630Z",
     "iopub.status.busy": "2022-09-26T09:23:37.206245Z",
     "iopub.status.idle": "2022-09-26T09:23:37.238533Z",
     "shell.execute_reply": "2022-09-26T09:23:37.237382Z"
    },
    "papermill": {
     "duration": 0.043259,
     "end_time": "2022-09-26T09:23:37.240897",
     "exception": false,
     "start_time": "2022-09-26T09:23:37.197638",
     "status": "completed"
    },
    "tags": []
   },
   "outputs": [],
   "source": [
    "brand_name = df.Brand.value_counts().index"
   ]
  },
  {
   "cell_type": "code",
   "execution_count": 18,
   "id": "2423e4e9",
   "metadata": {
    "execution": {
     "iopub.execute_input": "2022-09-26T09:23:37.257603Z",
     "iopub.status.busy": "2022-09-26T09:23:37.257146Z",
     "iopub.status.idle": "2022-09-26T09:23:37.288377Z",
     "shell.execute_reply": "2022-09-26T09:23:37.287217Z"
    },
    "papermill": {
     "duration": 0.042424,
     "end_time": "2022-09-26T09:23:37.290776",
     "exception": false,
     "start_time": "2022-09-26T09:23:37.248352",
     "status": "completed"
    },
    "tags": []
   },
   "outputs": [],
   "source": [
    "Brand_value = df.Brand.value_counts().values"
   ]
  },
  {
   "cell_type": "code",
   "execution_count": 19,
   "id": "85944b0b",
   "metadata": {
    "execution": {
     "iopub.execute_input": "2022-09-26T09:23:37.308131Z",
     "iopub.status.busy": "2022-09-26T09:23:37.307718Z",
     "iopub.status.idle": "2022-09-26T09:23:37.314898Z",
     "shell.execute_reply": "2022-09-26T09:23:37.313758Z"
    },
    "papermill": {
     "duration": 0.018729,
     "end_time": "2022-09-26T09:23:37.317260",
     "exception": false,
     "start_time": "2022-09-26T09:23:37.298531",
     "status": "completed"
    },
    "tags": []
   },
   "outputs": [
    {
     "data": {
      "text/plain": [
       "array([8135, 5179, 3862, ...,    1,    1,    1])"
      ]
     },
     "execution_count": 19,
     "metadata": {},
     "output_type": "execute_result"
    }
   ],
   "source": [
    "#This Brand values is counted based on the number of times the brand-name occurs in the dataset. That is the\n",
    "#number of times the brand occurs is same as the brand value of the brand.\n",
    "Brand_value"
   ]
  },
  {
   "cell_type": "markdown",
   "id": "bf7f48d4",
   "metadata": {
    "papermill": {
     "duration": 0.007084,
     "end_time": "2022-09-26T09:23:37.346594",
     "exception": false,
     "start_time": "2022-09-26T09:23:37.339510",
     "status": "completed"
    },
    "tags": []
   },
   "source": [
    "TOP 10 BRANDS"
   ]
  },
  {
   "cell_type": "code",
   "execution_count": 18,
   "id": "91a9b151",
   "metadata": {
    "execution": {
     "iopub.execute_input": "2022-09-26T09:23:37.377896Z",
     "iopub.status.busy": "2022-09-26T09:23:37.377446Z",
     "iopub.status.idle": "2022-09-26T09:23:37.792498Z",
     "shell.execute_reply": "2022-09-26T09:23:37.791078Z"
    },
    "papermill": {
     "duration": 0.427168,
     "end_time": "2022-09-26T09:23:37.795877",
     "exception": false,
     "start_time": "2022-09-26T09:23:37.368709",
     "status": "completed"
    },
    "tags": []
   },
   "outputs": [
    {
     "data": {
      "text/plain": [
       "([<matplotlib.patches.Wedge at 0x7f769941b290>,\n",
       "  <matplotlib.patches.Wedge at 0x7f769941bc50>,\n",
       "  <matplotlib.patches.Wedge at 0x7f76994304d0>,\n",
       "  <matplotlib.patches.Wedge at 0x7f76994301d0>,\n",
       "  <matplotlib.patches.Wedge at 0x7f769943e510>,\n",
       "  <matplotlib.patches.Wedge at 0x7f769943edd0>,\n",
       "  <matplotlib.patches.Wedge at 0x7f76993cd610>,\n",
       "  <matplotlib.patches.Wedge at 0x7f76993cde10>,\n",
       "  <matplotlib.patches.Wedge at 0x7f769943e4d0>,\n",
       "  <matplotlib.patches.Wedge at 0x7f769943ed90>,\n",
       "  <matplotlib.patches.Wedge at 0x7f769941b190>,\n",
       "  <matplotlib.patches.Wedge at 0x7f76993e9d50>,\n",
       "  <matplotlib.patches.Wedge at 0x7f76993f7590>,\n",
       "  <matplotlib.patches.Wedge at 0x7f76993f7d90>,\n",
       "  <matplotlib.patches.Wedge at 0x7f76994055d0>,\n",
       "  <matplotlib.patches.Wedge at 0x7f7699405dd0>,\n",
       "  <matplotlib.patches.Wedge at 0x7f7699393610>,\n",
       "  <matplotlib.patches.Wedge at 0x7f7699393e10>,\n",
       "  <matplotlib.patches.Wedge at 0x7f76993a0650>,\n",
       "  <matplotlib.patches.Wedge at 0x7f76993a0e50>],\n",
       " [Text(1.0138730796793058, 0.4266865105690595, 'jolie-robe'),\n",
       "  Text(0.5470430412603583, 0.9543290370771592, 'max'),\n",
       "  Text(0.08547670816747087, 1.0966739407685646, 'puma'),\n",
       "  Text(-0.30711623294219426, 1.056257364217356, 'louis-philippe'),\n",
       "  Text(-0.6439944005508828, 0.8917798002080499, 'campus-sutra'),\n",
       "  Text(-0.8971253004263291, 0.6365266650620136, 'superdry'),\n",
       "  Text(-1.049951370867422, 0.32802761897989885, 'ajio'),\n",
       "  Text(-1.0999658159693968, -0.008672006617809126, 'clovia'),\n",
       "  Text(-1.0487396007346073, -0.33188137918692684, 'indie-picks'),\n",
       "  Text(-0.9113850753167596, -0.6159360717557176, 'van-heusen'),\n",
       "  Text(-0.7010402236135087, -0.8476689240947328, 'pothys'),\n",
       "  Text(-0.438646087183191, -1.008756467240174, 'indiweaves'),\n",
       "  Text(-0.1479189178013449, -1.0900091714093414, 'sojanya'),\n",
       "  Text(0.14893292620680376, -1.0898710857213705, 'u-s-polo-assn-'),\n",
       "  Text(0.4237307243243987, -1.0151119510987547, 'marks-spencer'),\n",
       "  Text(0.6584927351771375, -0.8811284342926022, 'friskers'),\n",
       "  Text(0.8408148759532931, -0.7092463213691338, 'jack-jones'),\n",
       "  Text(0.9703806568936499, -0.5180360805259114, 'allen-solly'),\n",
       "  Text(1.0543039909847947, -0.31375642558126876, 'project-eve'),\n",
       "  Text(1.0949993882821252, -0.10476802786046849, 'netplay')],\n",
       " [Text(0.5530216798250759, 0.2327380966740324, '12.68%'),\n",
       "  Text(0.2983871134147409, 0.5205431111329959, '8.07%'),\n",
       "  Text(0.04662365900043865, 0.5981857858737625, '6.02%'),\n",
       "  Text(-0.16751794524119687, 0.5761403804821941, '5.46%'),\n",
       "  Text(-0.3512696730277542, 0.4864253455680272, '5.44%'),\n",
       "  Text(-0.4893410729598158, 0.34719636276109833, '5.01%'),\n",
       "  Text(-0.5727007477458664, 0.17892415580721752, '4.99%'),\n",
       "  Text(-0.5999813541651254, -0.004730185427895886, '4.90%'),\n",
       "  Text(-0.5720397822188766, -0.1810262068292328, '4.61%'),\n",
       "  Text(-0.49711913199095975, -0.33596513004857326, '4.55%'),\n",
       "  Text(-0.38238557651645927, -0.462364867688036, '4.53%'),\n",
       "  Text(-0.23926150209992234, -0.5502308003128222, '4.41%'),\n",
       "  Text(-0.08068304607346084, -0.594550457132368, '4.36%'),\n",
       "  Text(0.0812361415673475, -0.594475137666202, '4.26%'),\n",
       "  Text(0.23112584963149013, -0.553697427872048, '4.00%'),\n",
       "  Text(0.3591778555511658, -0.48061550961414656, '3.84%'),\n",
       "  Text(0.4586262959745234, -0.3868616298377093, '3.43%'),\n",
       "  Text(0.529298540123809, -0.28256513483231527, '3.27%'),\n",
       "  Text(0.5750749041735242, -0.17113986849887383, '3.13%'),\n",
       "  Text(0.5972723936084318, -0.05714619701480099, '3.04%')])"
      ]
     },
     "execution_count": 18,
     "metadata": {},
     "output_type": "execute_result"
    },
    {
     "data": {
      "image/png": "[encoded data removed]",
      "text/plain": [
       "<Figure size 720x2160 with 1 Axes>"
      ]
     },
     "metadata": {},
     "output_type": "display_data"
    }
   ],
   "source": [
    "import matplotlib\n",
    "matplotlib.rcParams['figure.figsize'] = (10, 30)\n",
    "plt.pie(Brand_value[:20],labels = brand_name[:20],autopct='%1.2f%%')"
   ]
  },
  {
   "cell_type": "markdown",
   "id": "f07e33c9",
   "metadata": {},
   "source": [
    "#### The Top 5 brands are:\n",
    "    Jolie-robe(12.68%)\n",
    "    Max(8.07%)\n",
    "    puma(6.02%)\n",
    "    louis-philippe(5.46%)\n",
    "    campus-sutra(5.44%)"
   ]
  },
  {
   "cell_type": "code",
   "execution_count": 19,
   "id": "fd029324",
   "metadata": {
    "execution": {
     "iopub.execute_input": "2022-09-26T09:23:37.816053Z",
     "iopub.status.busy": "2022-09-26T09:23:37.815625Z",
     "iopub.status.idle": "2022-09-26T09:23:37.851402Z",
     "shell.execute_reply": "2022-09-26T09:23:37.850253Z"
    },
    "papermill": {
     "duration": 0.048469,
     "end_time": "2022-09-26T09:23:37.853698",
     "exception": false,
     "start_time": "2022-09-26T09:23:37.805229",
     "status": "completed"
    },
    "tags": []
   },
   "outputs": [
    {
     "data": {
      "text/plain": [
       "1,999     20634\n",
       "1,499     19912\n",
       "999       15984\n",
       "1,299     13729\n",
       "1,199     13391\n",
       "          ...  \n",
       "10,235        1\n",
       "9,696         1\n",
       "21,110        1\n",
       "9,660         1\n",
       "4,285         1\n",
       "Name: Original Price (in Rs.), Length: 4539, dtype: int64"
      ]
     },
     "execution_count": 19,
     "metadata": {},
     "output_type": "execute_result"
    }
   ],
   "source": [
    "df['Original Price (in Rs.)'].value_counts()"
   ]
  },
  {
   "cell_type": "code",
   "execution_count": 20,
   "id": "481ebca8",
   "metadata": {
    "execution": {
     "iopub.execute_input": "2022-09-26T09:23:37.873976Z",
     "iopub.status.busy": "2022-09-26T09:23:37.873559Z",
     "iopub.status.idle": "2022-09-26T09:23:37.947960Z",
     "shell.execute_reply": "2022-09-26T09:23:37.946606Z"
    },
    "papermill": {
     "duration": 0.087903,
     "end_time": "2022-09-26T09:23:37.950772",
     "exception": false,
     "start_time": "2022-09-26T09:23:37.862869",
     "status": "completed"
    },
    "tags": []
   },
   "outputs": [
    {
     "data": {
      "text/html": [
       "<div>\n",
       "<style scoped>\n",
       "    .dataframe tbody tr th:only-of-type {\n",
       "        vertical-align: middle;\n",
       "    }\n",
       "\n",
       "    .dataframe tbody tr th {\n",
       "        vertical-align: top;\n",
       "    }\n",
       "\n",
       "    .dataframe thead th {\n",
       "        text-align: right;\n",
       "    }\n",
       "</style>\n",
       "<table border=\"1\" class=\"dataframe\">\n",
       "  <thead>\n",
       "    <tr style=\"text-align: right;\">\n",
       "      <th></th>\n",
       "      <th>Product_URL</th>\n",
       "      <th>Brand</th>\n",
       "      <th>Description</th>\n",
       "      <th>Id_Product</th>\n",
       "      <th>URL_image</th>\n",
       "      <th>Category_by_gender</th>\n",
       "      <th>Discount Price (in Rs.)</th>\n",
       "      <th>Original</th>\n",
       "      <th>Color</th>\n",
       "    </tr>\n",
       "  </thead>\n",
       "  <tbody>\n",
       "    <tr>\n",
       "      <th>0</th>\n",
       "      <td>https://www.ajio.com/netplay-checked-polo-t-sh...</td>\n",
       "      <td>netplay</td>\n",
       "      <td>Checked Polo T-shirt</td>\n",
       "      <td>441137362002</td>\n",
       "      <td>https://assets.ajio.com/medias/sys_master/root...</td>\n",
       "      <td>Men</td>\n",
       "      <td>559</td>\n",
       "      <td>699</td>\n",
       "      <td>white</td>\n",
       "    </tr>\n",
       "    <tr>\n",
       "      <th>1</th>\n",
       "      <td>https://www.ajio.com/netplay-tapered-fit-flat-...</td>\n",
       "      <td>netplay</td>\n",
       "      <td>Tapered Fit Flat-Front Trousers</td>\n",
       "      <td>441124497006</td>\n",
       "      <td>https://assets.ajio.com/medias/sys_master/root...</td>\n",
       "      <td>Men</td>\n",
       "      <td>720</td>\n",
       "      <td>1,499</td>\n",
       "      <td>navy</td>\n",
       "    </tr>\n",
       "    <tr>\n",
       "      <th>2</th>\n",
       "      <td>https://www.ajio.com/the-indian-garage-co-stri...</td>\n",
       "      <td>the-indian-garage-co</td>\n",
       "      <td>Striped Slim Fit Shirt with Patch Pocket</td>\n",
       "      <td>460453612003</td>\n",
       "      <td>https://assets.ajio.com/medias/sys_master/root...</td>\n",
       "      <td>Men</td>\n",
       "      <td>495</td>\n",
       "      <td>1,649</td>\n",
       "      <td>white</td>\n",
       "    </tr>\n",
       "    <tr>\n",
       "      <th>3</th>\n",
       "      <td>https://www.ajio.com/performax-heathered-crew-...</td>\n",
       "      <td>performax</td>\n",
       "      <td>Heathered Crew-Neck T-shirt</td>\n",
       "      <td>441036730003</td>\n",
       "      <td>https://assets.ajio.com/medias/sys_master/root...</td>\n",
       "      <td>Men</td>\n",
       "      <td>329</td>\n",
       "      <td>599</td>\n",
       "      <td>charcoal</td>\n",
       "    </tr>\n",
       "    <tr>\n",
       "      <th>4</th>\n",
       "      <td>https://www.ajio.com/john-players-jeans-washed...</td>\n",
       "      <td>john-players-jeans</td>\n",
       "      <td>Washed Skinny Fit Jeans with Whiskers</td>\n",
       "      <td>441128531011</td>\n",
       "      <td>https://assets.ajio.com/medias/sys_master/root...</td>\n",
       "      <td>Men</td>\n",
       "      <td>899</td>\n",
       "      <td>999</td>\n",
       "      <td>jetblack</td>\n",
       "    </tr>\n",
       "    <tr>\n",
       "      <th>...</th>\n",
       "      <td>...</td>\n",
       "      <td>...</td>\n",
       "      <td>...</td>\n",
       "      <td>...</td>\n",
       "      <td>...</td>\n",
       "      <td>...</td>\n",
       "      <td>...</td>\n",
       "      <td>...</td>\n",
       "      <td>...</td>\n",
       "    </tr>\n",
       "    <tr>\n",
       "      <th>367167</th>\n",
       "      <td>https://www.ajio.com/indie-picks-woven-pochamp...</td>\n",
       "      <td>indie-picks</td>\n",
       "      <td>Woven Pochampally Ikat Dresss Material</td>\n",
       "      <td>469185158001</td>\n",
       "      <td>https://assets.ajio.com/medias/sys_master/root...</td>\n",
       "      <td>Women</td>\n",
       "      <td>639</td>\n",
       "      <td>999</td>\n",
       "      <td>black</td>\n",
       "    </tr>\n",
       "    <tr>\n",
       "      <th>367168</th>\n",
       "      <td>https://www.ajio.com/indie-picks-woven-pochamp...</td>\n",
       "      <td>indie-picks</td>\n",
       "      <td>Woven Pochampally Ikat Dresss Material</td>\n",
       "      <td>469185191001</td>\n",
       "      <td>https://assets.ajio.com/medias/sys_master/root...</td>\n",
       "      <td>Women</td>\n",
       "      <td>639</td>\n",
       "      <td>999</td>\n",
       "      <td>blue</td>\n",
       "    </tr>\n",
       "    <tr>\n",
       "      <th>367169</th>\n",
       "      <td>https://www.ajio.com/griva-designer-floral-emb...</td>\n",
       "      <td>griva-designer</td>\n",
       "      <td>Floral Embroidered Saree</td>\n",
       "      <td>464386490001</td>\n",
       "      <td>https://assets.ajio.com/medias/sys_master/root...</td>\n",
       "      <td>Women</td>\n",
       "      <td>1,680</td>\n",
       "      <td>3,999</td>\n",
       "      <td>aqua</td>\n",
       "    </tr>\n",
       "    <tr>\n",
       "      <th>367170</th>\n",
       "      <td>https://www.ajio.com/global-desi-pleated-dhoti...</td>\n",
       "      <td>global-desi</td>\n",
       "      <td>Pleated Dhoti Pants with Semi-Elasticated Waist</td>\n",
       "      <td>441095127007</td>\n",
       "      <td>https://assets.ajio.com/medias/sys_master/root...</td>\n",
       "      <td>Women</td>\n",
       "      <td>2,399</td>\n",
       "      <td>2,399</td>\n",
       "      <td>white</td>\n",
       "    </tr>\n",
       "    <tr>\n",
       "      <th>367171</th>\n",
       "      <td>https://www.ajio.com/sakura-micro-print-a-line...</td>\n",
       "      <td>sakura</td>\n",
       "      <td>Micro Print A-line Kurta</td>\n",
       "      <td>469065660002</td>\n",
       "      <td>https://assets.ajio.com/medias/sys_master/root...</td>\n",
       "      <td>Women</td>\n",
       "      <td>418</td>\n",
       "      <td>1,099</td>\n",
       "      <td>green</td>\n",
       "    </tr>\n",
       "  </tbody>\n",
       "</table>\n",
       "<p>367172 rows × 9 columns</p>\n",
       "</div>"
      ],
      "text/plain": [
       "                                              Product_URL  \\\n",
       "0       https://www.ajio.com/netplay-checked-polo-t-sh...   \n",
       "1       https://www.ajio.com/netplay-tapered-fit-flat-...   \n",
       "2       https://www.ajio.com/the-indian-garage-co-stri...   \n",
       "3       https://www.ajio.com/performax-heathered-crew-...   \n",
       "4       https://www.ajio.com/john-players-jeans-washed...   \n",
       "...                                                   ...   \n",
       "367167  https://www.ajio.com/indie-picks-woven-pochamp...   \n",
       "367168  https://www.ajio.com/indie-picks-woven-pochamp...   \n",
       "367169  https://www.ajio.com/griva-designer-floral-emb...   \n",
       "367170  https://www.ajio.com/global-desi-pleated-dhoti...   \n",
       "367171  https://www.ajio.com/sakura-micro-print-a-line...   \n",
       "\n",
       "                       Brand                                      Description  \\\n",
       "0                    netplay                             Checked Polo T-shirt   \n",
       "1                    netplay                  Tapered Fit Flat-Front Trousers   \n",
       "2       the-indian-garage-co         Striped Slim Fit Shirt with Patch Pocket   \n",
       "3                  performax                      Heathered Crew-Neck T-shirt   \n",
       "4         john-players-jeans            Washed Skinny Fit Jeans with Whiskers   \n",
       "...                      ...                                              ...   \n",
       "367167           indie-picks           Woven Pochampally Ikat Dresss Material   \n",
       "367168           indie-picks           Woven Pochampally Ikat Dresss Material   \n",
       "367169        griva-designer                         Floral Embroidered Saree   \n",
       "367170           global-desi  Pleated Dhoti Pants with Semi-Elasticated Waist   \n",
       "367171                sakura                         Micro Print A-line Kurta   \n",
       "\n",
       "          Id_Product                                          URL_image  \\\n",
       "0       441137362002  https://assets.ajio.com/medias/sys_master/root...   \n",
       "1       441124497006  https://assets.ajio.com/medias/sys_master/root...   \n",
       "2       460453612003  https://assets.ajio.com/medias/sys_master/root...   \n",
       "3       441036730003  https://assets.ajio.com/medias/sys_master/root...   \n",
       "4       441128531011  https://assets.ajio.com/medias/sys_master/root...   \n",
       "...              ...                                                ...   \n",
       "367167  469185158001  https://assets.ajio.com/medias/sys_master/root...   \n",
       "367168  469185191001  https://assets.ajio.com/medias/sys_master/root...   \n",
       "367169  464386490001  https://assets.ajio.com/medias/sys_master/root...   \n",
       "367170  441095127007  https://assets.ajio.com/medias/sys_master/root...   \n",
       "367171  469065660002  https://assets.ajio.com/medias/sys_master/root...   \n",
       "\n",
       "       Category_by_gender Discount Price (in Rs.) Original     Color  \n",
       "0                     Men                     559      699     white  \n",
       "1                     Men                     720    1,499      navy  \n",
       "2                     Men                     495    1,649     white  \n",
       "3                     Men                     329      599  charcoal  \n",
       "4                     Men                     899      999  jetblack  \n",
       "...                   ...                     ...      ...       ...  \n",
       "367167              Women                     639      999     black  \n",
       "367168              Women                     639      999      blue  \n",
       "367169              Women                   1,680    3,999      aqua  \n",
       "367170              Women                   2,399    2,399     white  \n",
       "367171              Women                     418    1,099     green  \n",
       "\n",
       "[367172 rows x 9 columns]"
      ]
     },
     "execution_count": 20,
     "metadata": {},
     "output_type": "execute_result"
    }
   ],
   "source": [
    "df.rename(columns = {'Original Price (in Rs.)':'Original'}, inplace = False)"
   ]
  },
  {
   "cell_type": "code",
   "execution_count": 20,
   "id": "9b85c588",
   "metadata": {},
   "outputs": [
    {
     "data": {
      "text/html": [
       "<div>\n",
       "<style scoped>\n",
       "    .dataframe tbody tr th:only-of-type {\n",
       "        vertical-align: middle;\n",
       "    }\n",
       "\n",
       "    .dataframe tbody tr th {\n",
       "        vertical-align: top;\n",
       "    }\n",
       "\n",
       "    .dataframe thead th {\n",
       "        text-align: right;\n",
       "    }\n",
       "</style>\n",
       "<table border=\"1\" class=\"dataframe\">\n",
       "  <thead>\n",
       "    <tr style=\"text-align: right;\">\n",
       "      <th></th>\n",
       "      <th>Product_URL</th>\n",
       "      <th>Brand</th>\n",
       "      <th>Description</th>\n",
       "      <th>Id_Product</th>\n",
       "      <th>URL_image</th>\n",
       "      <th>Category_by_gender</th>\n",
       "      <th>Discount Price (in Rs.)</th>\n",
       "      <th>Original Price (in Rs.)</th>\n",
       "      <th>Color</th>\n",
       "    </tr>\n",
       "  </thead>\n",
       "  <tbody>\n",
       "    <tr>\n",
       "      <th>0</th>\n",
       "      <td>https://www.ajio.com/netplay-checked-polo-t-sh...</td>\n",
       "      <td>netplay</td>\n",
       "      <td>Checked Polo T-shirt</td>\n",
       "      <td>441137362002</td>\n",
       "      <td>https://assets.ajio.com/medias/sys_master/root...</td>\n",
       "      <td>Men</td>\n",
       "      <td>559</td>\n",
       "      <td>699</td>\n",
       "      <td>white</td>\n",
       "    </tr>\n",
       "    <tr>\n",
       "      <th>1</th>\n",
       "      <td>https://www.ajio.com/netplay-tapered-fit-flat-...</td>\n",
       "      <td>netplay</td>\n",
       "      <td>Tapered Fit Flat-Front Trousers</td>\n",
       "      <td>441124497006</td>\n",
       "      <td>https://assets.ajio.com/medias/sys_master/root...</td>\n",
       "      <td>Men</td>\n",
       "      <td>720</td>\n",
       "      <td>1,499</td>\n",
       "      <td>navy</td>\n",
       "    </tr>\n",
       "    <tr>\n",
       "      <th>2</th>\n",
       "      <td>https://www.ajio.com/the-indian-garage-co-stri...</td>\n",
       "      <td>the-indian-garage-co</td>\n",
       "      <td>Striped Slim Fit Shirt with Patch Pocket</td>\n",
       "      <td>460453612003</td>\n",
       "      <td>https://assets.ajio.com/medias/sys_master/root...</td>\n",
       "      <td>Men</td>\n",
       "      <td>495</td>\n",
       "      <td>1,649</td>\n",
       "      <td>white</td>\n",
       "    </tr>\n",
       "    <tr>\n",
       "      <th>3</th>\n",
       "      <td>https://www.ajio.com/performax-heathered-crew-...</td>\n",
       "      <td>performax</td>\n",
       "      <td>Heathered Crew-Neck T-shirt</td>\n",
       "      <td>441036730003</td>\n",
       "      <td>https://assets.ajio.com/medias/sys_master/root...</td>\n",
       "      <td>Men</td>\n",
       "      <td>329</td>\n",
       "      <td>599</td>\n",
       "      <td>charcoal</td>\n",
       "    </tr>\n",
       "    <tr>\n",
       "      <th>4</th>\n",
       "      <td>https://www.ajio.com/john-players-jeans-washed...</td>\n",
       "      <td>john-players-jeans</td>\n",
       "      <td>Washed Skinny Fit Jeans with Whiskers</td>\n",
       "      <td>441128531011</td>\n",
       "      <td>https://assets.ajio.com/medias/sys_master/root...</td>\n",
       "      <td>Men</td>\n",
       "      <td>899</td>\n",
       "      <td>999</td>\n",
       "      <td>jetblack</td>\n",
       "    </tr>\n",
       "  </tbody>\n",
       "</table>\n",
       "</div>"
      ],
      "text/plain": [
       "                                         Product_URL                 Brand  \\\n",
       "0  https://www.ajio.com/netplay-checked-polo-t-sh...               netplay   \n",
       "1  https://www.ajio.com/netplay-tapered-fit-flat-...               netplay   \n",
       "2  https://www.ajio.com/the-indian-garage-co-stri...  the-indian-garage-co   \n",
       "3  https://www.ajio.com/performax-heathered-crew-...             performax   \n",
       "4  https://www.ajio.com/john-players-jeans-washed...    john-players-jeans   \n",
       "\n",
       "                                Description    Id_Product  \\\n",
       "0                      Checked Polo T-shirt  441137362002   \n",
       "1           Tapered Fit Flat-Front Trousers  441124497006   \n",
       "2  Striped Slim Fit Shirt with Patch Pocket  460453612003   \n",
       "3               Heathered Crew-Neck T-shirt  441036730003   \n",
       "4     Washed Skinny Fit Jeans with Whiskers  441128531011   \n",
       "\n",
       "                                           URL_image Category_by_gender  \\\n",
       "0  https://assets.ajio.com/medias/sys_master/root...                Men   \n",
       "1  https://assets.ajio.com/medias/sys_master/root...                Men   \n",
       "2  https://assets.ajio.com/medias/sys_master/root...                Men   \n",
       "3  https://assets.ajio.com/medias/sys_master/root...                Men   \n",
       "4  https://assets.ajio.com/medias/sys_master/root...                Men   \n",
       "\n",
       "  Discount Price (in Rs.) Original Price (in Rs.)     Color  \n",
       "0                     559                     699     white  \n",
       "1                     720                   1,499      navy  \n",
       "2                     495                   1,649     white  \n",
       "3                     329                     599  charcoal  \n",
       "4                     899                     999  jetblack  "
      ]
     },
     "execution_count": 20,
     "metadata": {},
     "output_type": "execute_result"
    }
   ],
   "source": [
    "df.head()"
   ]
  },
  {
   "cell_type": "code",
   "execution_count": 16,
   "id": "50bd8000",
   "metadata": {
    "papermill": {
     "duration": 0.010778,
     "end_time": "2022-09-26T09:23:37.971954",
     "exception": false,
     "start_time": "2022-09-26T09:23:37.961176",
     "status": "completed"
    },
    "tags": []
   },
   "outputs": [
    {
     "data": {
      "text/plain": [
       "0    jolie-robe\n",
       "Name: Brand, dtype: object"
      ]
     },
     "execution_count": 16,
     "metadata": {},
     "output_type": "execute_result"
    }
   ],
   "source": [
    "df['Brand'].mode()"
   ]
  },
  {
   "cell_type": "code",
   "execution_count": null,
   "id": "5302874d",
   "metadata": {},
   "outputs": [],
   "source": []
  }
 ],
 "metadata": {
  "kernelspec": {
   "display_name": "Python 3 (ipykernel)",
   "language": "python",
   "name": "python3"
  },
  "language_info": {
   "codemirror_mode": {
    "name": "ipython",
    "version": 3
   },
   "file_extension": ".py",
   "mimetype": "text/x-python",
   "name": "python",
   "nbconvert_exporter": "python",
   "pygments_lexer": "ipython3",
   "version": "3.9.12"
  },
  "papermill": {
   "default_parameters": {},
   "duration": 17.178764,
   "end_time": "2022-09-26T09:23:38.831310",
   "environment_variables": {},
   "exception": null,
   "input_path": "__notebook__.ipynb",
   "output_path": "__notebook__.ipynb",
   "parameters": {},
   "start_time": "2022-09-26T09:23:21.652546",
   "version": "2.3.4"
  }
 },
 "nbformat": 4,
 "nbformat_minor": 5
}
